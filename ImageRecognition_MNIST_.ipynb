{
  "nbformat": 4,
  "nbformat_minor": 0,
  "metadata": {
    "colab": {
      "name": "ImageRecognition-MNIST .ipynb",
      "provenance": [],
      "collapsed_sections": [],
      "authorship_tag": "ABX9TyOcLcYsEIURHzZFh1cWFM+Q",
      "include_colab_link": true
    },
    "kernelspec": {
      "name": "python3",
      "display_name": "Python 3"
    }
  },
  "cells": [
    {
      "cell_type": "markdown",
      "metadata": {
        "id": "view-in-github",
        "colab_type": "text"
      },
      "source": [
        "<a href=\"https://colab.research.google.com/github/KevoKillmonger/Petty-Mayonaise/blob/master/ImageRecognition_MNIST_.ipynb\" target=\"_parent\"><img src=\"https://colab.research.google.com/assets/colab-badge.svg\" alt=\"Open In Colab\"/></a>"
      ]
    },
    {
      "cell_type": "markdown",
      "metadata": {
        "id": "d7hFnMkwHUID",
        "colab_type": "text"
      },
      "source": [
        "The MNIST dataset is a set of digits uniquely written by hand.\n",
        "\n",
        "This is a multiclass dataset. The softmax function is more useful than sigmoid\n",
        "\n",
        "This dataset has 10 classes. \n",
        "\n",
        "to analyze the images, 784 nodes are needed, representing pixels.\n",
        "\n",
        "Data is split into training and test datasets\n",
        "\n",
        "Training sets contains labels used to update the weights and biases accordingly\n",
        "\n",
        "eventually, training errors are minimized.\n",
        "\n",
        "We wanted our trained model to effectively generalise our test data."
      ]
    },
    {
      "cell_type": "code",
      "metadata": {
        "id": "pSKCNeevHXfL",
        "colab_type": "code",
        "colab": {
          "base_uri": "https://localhost:8080/",
          "height": 101
        },
        "outputId": "29c26212-127e-4143-bcce-2d56c2619ff9"
      },
      "source": [
        " !pip3 install torchvision"
      ],
      "execution_count": 23,
      "outputs": [
        {
          "output_type": "stream",
          "text": [
            "Requirement already satisfied: torchvision in /usr/local/lib/python3.6/dist-packages (0.6.1+cu101)\n",
            "Requirement already satisfied: torch==1.5.1 in /usr/local/lib/python3.6/dist-packages (from torchvision) (1.5.1+cu101)\n",
            "Requirement already satisfied: pillow>=4.1.1 in /usr/local/lib/python3.6/dist-packages (from torchvision) (7.0.0)\n",
            "Requirement already satisfied: numpy in /usr/local/lib/python3.6/dist-packages (from torchvision) (1.18.5)\n",
            "Requirement already satisfied: future in /usr/local/lib/python3.6/dist-packages (from torch==1.5.1->torchvision) (0.16.0)\n"
          ],
          "name": "stdout"
        }
      ]
    },
    {
      "cell_type": "code",
      "metadata": {
        "id": "zuVGvcquIy6n",
        "colab_type": "code",
        "colab": {}
      },
      "source": [
        "import torch\n",
        "import matplotlib.pyplot as plt\n",
        "import numpy as np\n",
        "import torch.\n",
        "from torch import nn\n",
        "from torchvision import datasets, transforms  #TorchVision contains datasets including MNIST"
      ],
      "execution_count": 24,
      "outputs": []
    },
    {
      "cell_type": "markdown",
      "metadata": {
        "id": "SUnwDx1QKLlY",
        "colab_type": "text"
      },
      "source": [
        "1. Below, we load the dataset and specify our arguments\n",
        "2. We specify 'root', the directory of our data, where our data is saved in 'data'\n",
        "3. We specify 'train', making it equal to true, to initialize the MNIST dataset\n",
        "4.'download'= to True to download MNIST onto the data folder\n",
        "5. 'tranform' "
      ]
    },
    {
      "cell_type": "code",
      "metadata": {
        "id": "c60t1AzyJIGc",
        "colab_type": "code",
        "colab": {}
      },
      "source": [
        "#Compose allows chains of transformations\n",
        "#ToTensor converts np array from range (0-255) to float tensor range (0-1)\n",
        "\n",
        "transform = transforms.Compose([transforms.ToTensor(), #transforms arrays to tensors\n",
        "                                transforms.Normalize((0.5,), (0.5,))#Normalize image values for Channel, height and width(CHW)\n",
        "                                ])\n",
        "training_dataset = datasets.MNIST(root='./data', train=True, download=True, transform=transform)\n",
        "\n",
        "\n",
        "training_loader = torch.utils.data.DataLoader(dataset=training_dataset, batch_size=100, shuffle=True)#we specify our training batches"
      ],
      "execution_count": 29,
      "outputs": []
    },
    {
      "cell_type": "code",
      "metadata": {
        "id": "LEV-JbfxOpk6",
        "colab_type": "code",
        "colab": {}
      },
      "source": [
        "#To plot tensor image, we convert back to numpy array\n",
        "def im_convert(tensor):\n",
        "  image = tensor.clone().detach().numpy()\n",
        "  image = image.transpose(1, 2, 0)\n",
        "  print(image.shape)\n",
        "  image = image * np.array((0.5, 0.5, 0.5)) + np.array((0.5, 0.5, 0.5))\n",
        "  image = image.clip(0, 1)\n",
        "  return image\n",
        "  "
      ],
      "execution_count": 30,
      "outputs": []
    },
    {
      "cell_type": "code",
      "metadata": {
        "id": "OHK0lWPVQlp0",
        "colab_type": "code",
        "colab": {}
      },
      "source": [
        "dataiter = iter(training_loader)#create object that allows us to iter one element at a time\n",
        "images, labels = dataiter.next()\n",
        "fig = plt.figure(figsize=(25, 4))\n",
        "\n",
        "for idx in np.arange(20):\n",
        "  ax = fig.add_subplot(2, 10, idx+1, xticks=[], yticks=[])\n",
        "  plt.imshow(im_convert(images[idx]))\n",
        "  ax.set_title([labels[idx].item()])\n"
      ],
      "execution_count": null,
      "outputs": []
    },
    {
      "cell_type": "code",
      "metadata": {
        "id": "UYoraISuhzwl",
        "colab_type": "code",
        "colab": {}
      },
      "source": [
        "class Classifier(nn.Module):\n",
        "  def __init__(self, D_in, H1, H2, D_out):\n",
        "    super().__init__()\n",
        "    self.linear1 = nn.Linear(D_in, H1)\n",
        "    self.Linear2 = nn.Linear(H1, H2)\n",
        "    self.Linear3 = nn.Linear(H2, D_out)\n",
        "    "
      ],
      "execution_count": null,
      "outputs": []
    }
  ]
}