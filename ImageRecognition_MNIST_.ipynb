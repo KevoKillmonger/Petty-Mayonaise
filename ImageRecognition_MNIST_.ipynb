{
  "nbformat": 4,
  "nbformat_minor": 0,
  "metadata": {
    "colab": {
      "name": "ImageRecognition-MNIST .ipynb",
      "provenance": [],
      "collapsed_sections": [],
      "authorship_tag": "ABX9TyOHJl6Q+au/oNLJDOW6wBEX",
      "include_colab_link": true
    },
    "kernelspec": {
      "name": "python3",
      "display_name": "Python 3"
    }
  },
  "cells": [
    {
      "cell_type": "markdown",
      "metadata": {
        "id": "view-in-github",
        "colab_type": "text"
      },
      "source": [
        "<a href=\"https://colab.research.google.com/github/KevoKillmonger/Petty-Mayonaise/blob/master/ImageRecognition_MNIST_.ipynb\" target=\"_parent\"><img src=\"https://colab.research.google.com/assets/colab-badge.svg\" alt=\"Open In Colab\"/></a>"
      ]
    },
    {
      "cell_type": "markdown",
      "metadata": {
        "id": "d7hFnMkwHUID",
        "colab_type": "text"
      },
      "source": [
        "The MNIST dataset is a set of digits uniquely written by hand.\n",
        "\n",
        "This is a multiclass dataset. The softmax function is more useful than sigmoid\n",
        "\n",
        "This dataset has 10 classes. \n",
        "\n",
        "to analyze the images, 784 nodes are needed, representing pixels.\n",
        "\n",
        "Data is split into training and test datasets\n",
        "\n",
        "Training sets contains labels used to update the weights and biases accordingly\n",
        "\n",
        "eventually, training errors are minimized.\n",
        "\n",
        "We wanted our trained model to effectively generalise our test data."
      ]
    },
    {
      "cell_type": "code",
      "metadata": {
        "id": "pSKCNeevHXfL",
        "colab_type": "code",
        "colab": {
          "base_uri": "https://localhost:8080/",
          "height": 101
        },
        "outputId": "0b30c153-2e55-4edb-de8d-6d644fbe2250"
      },
      "source": [
        " !pip3 install torchvision"
      ],
      "execution_count": 13,
      "outputs": [
        {
          "output_type": "stream",
          "text": [
            "Requirement already satisfied: torchvision in /usr/local/lib/python3.6/dist-packages (0.6.1+cu101)\n",
            "Requirement already satisfied: numpy in /usr/local/lib/python3.6/dist-packages (from torchvision) (1.18.5)\n",
            "Requirement already satisfied: torch==1.5.1 in /usr/local/lib/python3.6/dist-packages (from torchvision) (1.5.1+cu101)\n",
            "Requirement already satisfied: pillow>=4.1.1 in /usr/local/lib/python3.6/dist-packages (from torchvision) (7.0.0)\n",
            "Requirement already satisfied: future in /usr/local/lib/python3.6/dist-packages (from torch==1.5.1->torchvision) (0.16.0)\n"
          ],
          "name": "stdout"
        }
      ]
    },
    {
      "cell_type": "code",
      "metadata": {
        "id": "zuVGvcquIy6n",
        "colab_type": "code",
        "colab": {}
      },
      "source": [
        "import torch\n",
        "import matplotlib.pyplot as plt\n",
        "import numpy as np\n",
        "import torch.nn.functional as F\n",
        "from torch import nn\n",
        "from torchvision import datasets, transforms  #TorchVision contains datasets including MNIST"
      ],
      "execution_count": 14,
      "outputs": []
    },
    {
      "cell_type": "markdown",
      "metadata": {
        "id": "SUnwDx1QKLlY",
        "colab_type": "text"
      },
      "source": [
        "1. Below, we load the dataset and specify our arguments\n",
        "2. We specify 'root', the directory of our data, where our data is saved in 'data'\n",
        "3. We specify 'train', making it equal to true, to initialize the MNIST dataset\n",
        "4.'download'= to True to download MNIST onto the data folder\n",
        "5. 'tranform' "
      ]
    },
    {
      "cell_type": "code",
      "metadata": {
        "id": "c60t1AzyJIGc",
        "colab_type": "code",
        "colab": {}
      },
      "source": [
        "#Compose allows chains of transformations\n",
        "#ToTensor converts np array from range (0-255) to float tensor range (0-1)\n",
        "\n",
        "transform = transforms.Compose([transforms.ToTensor(), #transforms arrays to tensors\n",
        "                                transforms.Normalize((0.5,), (0.5,))#Normalize image values for Channel, height and width(CHW)\n",
        "                                ])\n",
        "training_dataset = datasets.MNIST(root='./data', train=True, download=True, transform=transform)\n",
        "\n",
        "\n",
        "training_loader = torch.utils.data.DataLoader(dataset=training_dataset, batch_size=100, shuffle=True)#we specify our training batches"
      ],
      "execution_count": 15,
      "outputs": []
    },
    {
      "cell_type": "code",
      "metadata": {
        "id": "LEV-JbfxOpk6",
        "colab_type": "code",
        "colab": {}
      },
      "source": [
        "#To plot tensor image, we convert back to numpy array\n",
        "def im_convert(tensor):\n",
        "  image = tensor.clone().detach().numpy()\n",
        "  image = image.transpose(1, 2, 0)\n",
        " \n",
        "  image = image * np.array((0.5, 0.5, 0.5)) + np.array((0.5, 0.5, 0.5))\n",
        "  image = image.clip(0, 1)\n",
        "  return image\n",
        "  "
      ],
      "execution_count": 16,
      "outputs": []
    },
    {
      "cell_type": "code",
      "metadata": {
        "id": "OHK0lWPVQlp0",
        "colab_type": "code",
        "colab": {
          "base_uri": "https://localhost:8080/",
          "height": 268
        },
        "outputId": "120b5fe1-9601-4123-affa-06afac59b4b3"
      },
      "source": [
        "dataiter = iter(training_loader)#create object that allows us to iter one element at a time\n",
        "images, labels = dataiter.next()\n",
        "fig = plt.figure(figsize=(25, 4))\n",
        "\n",
        "for idx in np.arange(20):\n",
        "  ax = fig.add_subplot(2, 10, idx+1, xticks=[], yticks=[])\n",
        "  plt.imshow(im_convert(images[idx]))\n",
        "  ax.set_title([labels[idx].item()])\n"
      ],
      "execution_count": 17,
      "outputs": [
        {
          "output_type": "display_data",
          "data": {
            "image/png": "[encoded data removed]",
            "text/plain": [
              "<Figure size 1800x288 with 20 Axes>"
            ]
          },
          "metadata": {
            "tags": []
          }
        }
      ]
    },
    {
      "cell_type": "code",
      "metadata": {
        "id": "UYoraISuhzwl",
        "colab_type": "code",
        "colab": {}
      },
      "source": [
        "class Classifier(nn.Module):#create class to create neural instances \n",
        "  def __init__(self, D_in, H1, H2, D_out):#args a nodes in hidden layers\n",
        "    super().__init__()#here, we've defined the neural model in the constructor\n",
        "    self.Linear1 = nn.Linear(D_in, H1)#input layer and \n",
        "    self.Linear2 = nn.Linear(H1, H2)#first hidden layer\n",
        "    self.Linear3 = nn.Linear(H2, D_out)#2nd hidden layer\n",
        "  def forward(self, x):#we feed forward input to network\n",
        "    x = F.relu(self.Linear1(x))\n",
        "    x = F.relu(self.Linear2(x))\n",
        "    x = self.Linear3(x)\n",
        "    return x\n"
      ],
      "execution_count": 18,
      "outputs": []
    },
    {
      "cell_type": "code",
      "metadata": {
        "id": "NIg_4yFQlxZp",
        "colab_type": "code",
        "colab": {
          "base_uri": "https://localhost:8080/",
          "height": 101
        },
        "outputId": "8ca5e45a-297a-44c6-d954-ae04e8eb8d97"
      },
      "source": [
        "model = Classifier(784, 125, 65, 10)#(pixels, nodes, 1 hidden layer, 2 hidden layer, # of classes )\n",
        "model"
      ],
      "execution_count": 19,
      "outputs": [
        {
          "output_type": "execute_result",
          "data": {
            "text/plain": [
              "Classifier(\n",
              "  (Linear1): Linear(in_features=784, out_features=125, bias=True)\n",
              "  (Linear2): Linear(in_features=125, out_features=65, bias=True)\n",
              "  (Linear3): Linear(in_features=65, out_features=10, bias=True)\n",
              ")"
            ]
          },
          "metadata": {
            "tags": []
          },
          "execution_count": 19
        }
      ]
    },
    {
      "cell_type": "code",
      "metadata": {
        "id": "LvsrwVpwmPqz",
        "colab_type": "code",
        "colab": {}
      },
      "source": [
        "criterion = nn.CrossEntropyLoss()\n",
        "optimizer = torch.optim.Adam(model.parameters(), lr = 0.01)"
      ],
      "execution_count": 20,
      "outputs": []
    },
    {
      "cell_type": "code",
      "metadata": {
        "id": "5VKe6mdVmmYX",
        "colab_type": "code",
        "colab": {
          "base_uri": "https://localhost:8080/",
          "height": 218
        },
        "outputId": "e9a0356c-3bed-4d19-c984-8b3b12c3cbaf"
      },
      "source": [
        "epochs = 12\n",
        "running_loss_history = []\n",
        "running_corrects_history = []\n",
        "\n",
        "for e in range(epochs):#We iterate through every epoch\n",
        "\n",
        "  running_loss = 0.0\n",
        "  running_corrects = 0.0\n",
        "  for inputs, labels in training_loader:#we iterate through batches of images\n",
        "    inputs = inputs.view(inputs.shape[0], -1)#images flattened\n",
        "    outputs = model(inputs)\n",
        "    loss = criterion(outputs, labels)#determine loss\n",
        "\n",
        "    optimizer.zero_grad()\n",
        "    loss.backward()\n",
        "    optimizer.step()\n",
        "\n",
        "    _, preds = torch.max(outputs, 1)#preds contains top class prediction for each image \n",
        "    running_loss += loss.item()\n",
        "    running_corrects += torch.sum(preds == labels.data)\n",
        "  else:\n",
        "    epoch_loss = running_loss/len(training_loader)\n",
        "    epoch_acc = running_corrects.float()/len(training_loader)\n",
        "    running_loss_history.append(epoch_loss)\n",
        "    print('Training loss: {:.4f}, {:.4f} '.format(epoch_loss, epoch_acc.item()))\n",
        "    "
      ],
      "execution_count": 21,
      "outputs": [
        {
          "output_type": "stream",
          "text": [
            "Training loss: 0.3866, 87.8717 \n",
            "Training loss: 0.2244, 93.3183 \n",
            "Training loss: 0.2057, 93.9267 \n",
            "Training loss: 0.1952, 94.3500 \n",
            "Training loss: 0.1875, 94.6333 \n",
            "Training loss: 0.1823, 94.8900 \n",
            "Training loss: 0.1709, 95.2183 \n",
            "Training loss: 0.1724, 95.1383 \n",
            "Training loss: 0.1739, 95.1800 \n",
            "Training loss: 0.1688, 95.3483 \n",
            "Training loss: 0.1612, 95.6233 \n",
            "Training loss: 0.1609, 95.5000 \n"
          ],
          "name": "stdout"
        }
      ]
    }
  ]
}