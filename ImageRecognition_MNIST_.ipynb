{
  "nbformat": 4,
  "nbformat_minor": 0,
  "metadata": {
    "colab": {
      "name": "ImageRecognition-MNIST .ipynb",
      "provenance": [],
      "collapsed_sections": [],
      "authorship_tag": "ABX9TyMg8e0BXTzNXh1Plrt4IHf4",
      "include_colab_link": true
    },
    "kernelspec": {
      "name": "python3",
      "display_name": "Python 3"
    }
  },
  "cells": [
    {
      "cell_type": "markdown",
      "metadata": {
        "id": "view-in-github",
        "colab_type": "text"
      },
      "source": [
        "<a href=\"https://colab.research.google.com/github/KevoKillmonger/Petty-Mayonaise/blob/master/ImageRecognition_MNIST_.ipynb\" target=\"_parent\"><img src=\"https://colab.research.google.com/assets/colab-badge.svg\" alt=\"Open In Colab\"/></a>"
      ]
    },
    {
      "cell_type": "markdown",
      "metadata": {
        "id": "d7hFnMkwHUID",
        "colab_type": "text"
      },
      "source": [
        "The MNIST dataset is a set of digits uniquely written by hand.\n",
        "\n",
        "This is a multiclass dataset. The softmax function is more useful than sigmoid\n",
        "\n",
        "This dataset has 10 classes. \n",
        "\n",
        "to analyze the images, 784 nodes are needed, representing pixels.\n",
        "\n",
        "Data is split into training and test datasets\n",
        "\n",
        "Training sets contains labels used to update the weights and biases accordingly\n",
        "\n",
        "eventually, training errors are minimized.\n",
        "\n",
        "We wanted our trained model to effectively generalise our test data."
      ]
    },
    {
      "cell_type": "code",
      "metadata": {
        "id": "pSKCNeevHXfL",
        "colab_type": "code",
        "colab": {
          "base_uri": "https://localhost:8080/",
          "height": 118
        },
        "outputId": "83a81428-a504-49e4-d7b1-7c7de744216c"
      },
      "source": [
        " !pip3 install torchvision"
      ],
      "execution_count": null,
      "outputs": [
        {
          "output_type": "stream",
          "text": [
            "Requirement already satisfied: torchvision in /usr/local/lib/python3.6/dist-packages (0.6.1+cu101)\n",
            "Requirement already satisfied: torch==1.5.1 in /usr/local/lib/python3.6/dist-packages (from torchvision) (1.5.1+cu101)\n",
            "Requirement already satisfied: pillow>=4.1.1 in /usr/local/lib/python3.6/dist-packages (from torchvision) (4.1.1)\n",
            "Requirement already satisfied: numpy in /usr/local/lib/python3.6/dist-packages (from torchvision) (1.18.5)\n",
            "Requirement already satisfied: future in /usr/local/lib/python3.6/dist-packages (from torch==1.5.1->torchvision) (0.16.0)\n",
            "Requirement already satisfied: olefile in /usr/local/lib/python3.6/dist-packages (from pillow>=4.1.1->torchvision) (0.46)\n"
          ],
          "name": "stdout"
        }
      ]
    },
    {
      "cell_type": "code",
      "metadata": {
        "id": "zuVGvcquIy6n",
        "colab_type": "code",
        "colab": {}
      },
      "source": [
        "import torch\n",
        "import matplotlib.pyplot as plt\n",
        "import numpy as np\n",
        "import torch.nn.functional as F\n",
        "from torch import nn\n",
        "from torchvision import datasets, transforms  #TorchVision contains datasets including MNIST"
      ],
      "execution_count": null,
      "outputs": []
    },
    {
      "cell_type": "markdown",
      "metadata": {
        "id": "SUnwDx1QKLlY",
        "colab_type": "text"
      },
      "source": [
        "1. Below, we load the dataset and specify our arguments\n",
        "2. We specify 'root', the directory of our data, where our data is saved in 'data'\n",
        "3. We specify 'train', making it equal to true, to initialize the MNIST dataset\n",
        "4.'download'= to True to download MNIST onto the data folder\n",
        "5. 'tranform' "
      ]
    },
    {
      "cell_type": "code",
      "metadata": {
        "id": "c60t1AzyJIGc",
        "colab_type": "code",
        "colab": {}
      },
      "source": [
        "#Compose allows chains of transformations\n",
        "#ToTensor converts np array from range (0-255) to float tensor range (0-1)\n",
        "\n",
        "transform = transforms.Compose([transforms.Resize((28,28)),\n",
        "                                transforms.ToTensor(), #transforms arrays to tensors\n",
        "                                transforms.Normalize((0.5,), (0.5,))#Normalize image values for Channel, height and width(CHW)\n",
        "                                ])\n",
        "training_dataset = datasets.MNIST(root='./data', train=True, download=True, transform=transform)\n",
        "validation_dataset = datasets.MNIST(root='./data', train=False, download=True, transform=transform)\n",
        "\n",
        "\n",
        "training_loader = torch.utils.data.DataLoader(training_dataset, batch_size=100, shuffle=True)#we specify our training batches\n",
        "validation_loader = torch.utils.data.DataLoader(validation_dataset, batch_size=100, shuffle=False)"
      ],
      "execution_count": null,
      "outputs": []
    },
    {
      "cell_type": "code",
      "metadata": {
        "id": "LEV-JbfxOpk6",
        "colab_type": "code",
        "colab": {}
      },
      "source": [
        "#To plot tensor image, we convert back to numpy array\n",
        "def im_convert(tensor):\n",
        "  image = tensor.clone().detach().numpy()\n",
        "  image = image.transpose(1, 2, 0)\n",
        " \n",
        "  image = image * np.array((0.5, 0.5, 0.5)) + np.array((0.5, 0.5, 0.5))\n",
        "  image = image.clip(0, 1)\n",
        "  return image\n",
        "  "
      ],
      "execution_count": null,
      "outputs": []
    },
    {
      "cell_type": "code",
      "metadata": {
        "id": "OHK0lWPVQlp0",
        "colab_type": "code",
        "colab": {
          "base_uri": "https://localhost:8080/",
          "height": 268
        },
        "outputId": "43315733-d7b7-41fc-ecbd-fe70b37673a7"
      },
      "source": [
        "dataiter = iter(training_loader)#create object that allows us to iter one element at a time\n",
        "images, labels = dataiter.next()\n",
        "fig = plt.figure(figsize=(25, 4))\n",
        "\n",
        "for idx in np.arange(20):\n",
        "  ax = fig.add_subplot(2, 10, idx+1, xticks=[], yticks=[])\n",
        "  plt.imshow(im_convert(images[idx]))\n",
        "  ax.set_title([labels[idx].item()])\n"
      ],
      "execution_count": null,
      "outputs": [
        {
          "output_type": "display_data",
          "data": {
            "image/png": "[encoded data removed]",
            "text/plain": [
              "<Figure size 1800x288 with 20 Axes>"
            ]
          },
          "metadata": {
            "tags": []
          }
        }
      ]
    },
    {
      "cell_type": "code",
      "metadata": {
        "id": "UYoraISuhzwl",
        "colab_type": "code",
        "colab": {}
      },
      "source": [
        "class Classifier(nn.Module):#create class to create neural instances \n",
        "  def __init__(self, D_in, H1, H2, D_out):#args a nodes in hidden layers\n",
        "    super().__init__()#here, we've defined the neural model in the constructor\n",
        "    self.Linear1 = nn.Linear(D_in, H1)#input layer and \n",
        "    self.Linear2 = nn.Linear(H1, H2)#first hidden layer\n",
        "    self.Linear3 = nn.Linear(H2, D_out)#2nd hidden layer\n",
        "  def forward(self, x):#we feed forward input to network\n",
        "    x = F.relu(self.Linear1(x))\n",
        "    x = F.relu(self.Linear2(x))\n",
        "    x = self.Linear3(x)\n",
        "    return x\n"
      ],
      "execution_count": null,
      "outputs": []
    },
    {
      "cell_type": "code",
      "metadata": {
        "id": "NIg_4yFQlxZp",
        "colab_type": "code",
        "colab": {
          "base_uri": "https://localhost:8080/",
          "height": 101
        },
        "outputId": "9e10ca48-f479-41fe-f1e7-ec8562c471f4"
      },
      "source": [
        "model = Classifier(784, 125, 65, 10)#(pixels, nodes, 1 hidden layer, 2 hidden layer, # of classes )\n",
        "model"
      ],
      "execution_count": null,
      "outputs": [
        {
          "output_type": "execute_result",
          "data": {
            "text/plain": [
              "Classifier(\n",
              "  (Linear1): Linear(in_features=784, out_features=125, bias=True)\n",
              "  (Linear2): Linear(in_features=125, out_features=65, bias=True)\n",
              "  (Linear3): Linear(in_features=65, out_features=10, bias=True)\n",
              ")"
            ]
          },
          "metadata": {
            "tags": []
          },
          "execution_count": 7
        }
      ]
    },
    {
      "cell_type": "code",
      "metadata": {
        "id": "LvsrwVpwmPqz",
        "colab_type": "code",
        "colab": {}
      },
      "source": [
        "criterion = nn.CrossEntropyLoss()\n",
        "optimizer = torch.optim.Adam(model.parameters(), lr = 0.0001)"
      ],
      "execution_count": null,
      "outputs": []
    },
    {
      "cell_type": "code",
      "metadata": {
        "id": "5VKe6mdVmmYX",
        "colab_type": "code",
        "colab": {
          "base_uri": "https://localhost:8080/",
          "height": 773
        },
        "outputId": "168634e4-38e1-46ad-a942-c03f1ebfe2be"
      },
      "source": [
        "epochs = 15\n",
        "running_loss_history = []\n",
        "running_corrects_history = []\n",
        "val_running_loss_history = []\n",
        "val_running_corrects_history = []\n",
        "\n",
        "for e in range(epochs):#We iterate through every epoch\n",
        "\n",
        "  running_loss = 0.0\n",
        "  running_corrects = 0.0\n",
        "  val_running_loss = 0.0\n",
        "  val_running_corrects = 0.0\n",
        "\n",
        "  for inputs, labels in training_loader:#we iterate through batches of images\n",
        "    inputs = inputs.view(inputs.shape[0], -1)#images flattened\n",
        "    outputs = model(inputs)\n",
        "    loss = criterion(outputs, labels)#determine loss\n",
        "\n",
        "    optimizer.zero_grad()\n",
        "    loss.backward()\n",
        "    optimizer.step()\n",
        "\n",
        "    _, preds = torch.max(outputs, 1)#preds contains top class prediction for each image \n",
        "    running_loss += loss.item()\n",
        "    running_corrects += torch.sum(preds == labels.data)\n",
        "\n",
        "  else:\n",
        "    with torch.no_grad():\n",
        "      for val_inputs, val_labels in validation_loader:\n",
        "        val_inputs = val_inputs.view(val_inputs.shape[0], -1)#images flattened\n",
        "        val_outputs = model(val_inputs)\n",
        "        val_loss = criterion(val_outputs, val_labels)\n",
        "\n",
        "        _, val_preds = torch.max(val_outputs, 1)#preds contains top class prediction for each image \n",
        "        val_running_loss += val_loss.item()\n",
        "        val_running_corrects += torch.sum(val_preds == val_labels.data)\n",
        "\n",
        "      epoch_loss = running_loss/len(training_loader)\n",
        "      epoch_acc = running_corrects.float()/len(training_loader)\n",
        "      running_loss_history.append(epoch_loss)\n",
        "      running_corrects_history.append(epoch_acc)\n",
        "\n",
        "      epoch_loss = running_loss/len(training_loader)\n",
        "      epoch_acc = running_corrects.float()/len(training_loader)\n",
        "\n",
        "      val_epoch_loss = val_running_loss/len(validation_loader)\n",
        "      val_epoch_acc = val_running_corrects.float()/len(validation_loader)\n",
        "      val_running_loss_history.append(val_epoch_loss)\n",
        "      val_running_corrects_history.append(val_epoch_acc)\n",
        "      \n",
        "      print('epoch :', (e+1))\n",
        "      print('Training loss: {:.4f}, acc {:.4f} '.format(epoch_loss, epoch_acc.item()))\n",
        "      print('validation loss: {:.4f}, validation acc {:.4f} '.format(val_epoch_loss, val_epoch_acc.item()))\n",
        "    "
      ],
      "execution_count": null,
      "outputs": [
        {
          "output_type": "stream",
          "text": [
            "epoch : 1\n",
            "Training loss: 0.9387, acc 77.3383 \n",
            "validation loss: 0.4272, validation acc 88.4100 \n",
            "epoch : 2\n",
            "Training loss: 0.3795, acc 89.3350 \n",
            "validation loss: 0.3184, validation acc 90.7700 \n",
            "epoch : 3\n",
            "Training loss: 0.3124, acc 91.0350 \n",
            "validation loss: 0.2838, validation acc 91.8100 \n",
            "epoch : 4\n",
            "Training loss: 0.2773, acc 92.0200 \n",
            "validation loss: 0.2593, validation acc 92.2400 \n",
            "epoch : 5\n",
            "Training loss: 0.2513, acc 92.7800 \n",
            "validation loss: 0.2346, validation acc 93.3800 \n",
            "epoch : 6\n",
            "Training loss: 0.2283, acc 93.3017 \n",
            "validation loss: 0.2160, validation acc 93.7100 \n",
            "epoch : 7\n",
            "Training loss: 0.2097, acc 93.9783 \n",
            "validation loss: 0.1991, validation acc 94.1500 \n",
            "epoch : 8\n",
            "Training loss: 0.1933, acc 94.3750 \n",
            "validation loss: 0.1936, validation acc 94.2700 \n",
            "epoch : 9\n",
            "Training loss: 0.1800, acc 94.8283 \n",
            "validation loss: 0.1734, validation acc 94.7900 \n",
            "epoch : 10\n",
            "Training loss: 0.1680, acc 95.1333 \n",
            "validation loss: 0.1662, validation acc 94.8800 \n",
            "epoch : 11\n",
            "Training loss: 0.1570, acc 95.4250 \n",
            "validation loss: 0.1535, validation acc 95.4000 \n",
            "epoch : 12\n",
            "Training loss: 0.1473, acc 95.7350 \n",
            "validation loss: 0.1516, validation acc 95.4400 \n",
            "epoch : 13\n",
            "Training loss: 0.1389, acc 95.9633 \n",
            "validation loss: 0.1400, validation acc 95.8100 \n",
            "epoch : 14\n",
            "Training loss: 0.1310, acc 96.1567 \n",
            "validation loss: 0.1329, validation acc 95.9400 \n",
            "epoch : 15\n",
            "Training loss: 0.1241, acc 96.3583 \n",
            "validation loss: 0.1313, validation acc 96.1600 \n"
          ],
          "name": "stdout"
        }
      ]
    },
    {
      "cell_type": "code",
      "metadata": {
        "id": "CkX8DnVTMqAv",
        "colab_type": "code",
        "colab": {
          "base_uri": "https://localhost:8080/",
          "height": 282
        },
        "outputId": "53078231-ac85-4e3e-b54e-6726b5d49881"
      },
      "source": [
        "plt.plot(running_loss_history, label='training loss')\n",
        "plt.plot(val_running_loss_history, label='validation loss')\n",
        "plt.legend()\n",
        "\n",
        "#remember, we're using Gradient descent\n",
        "#The learning rate dictates the parameters. "
      ],
      "execution_count": null,
      "outputs": [
        {
          "output_type": "execute_result",
          "data": {
            "text/plain": [
              "<matplotlib.legend.Legend at 0x7f160580cc18>"
            ]
          },
          "metadata": {
            "tags": []
          },
          "execution_count": 10
        },
        {
          "output_type": "display_data",
          "data": {
            "image/png": "[encoded data removed]",
            "text/plain": [
              "<Figure size 432x288 with 1 Axes>"
            ]
          },
          "metadata": {
            "tags": [],
            "needs_background": "light"
          }
        }
      ]
    },
    {
      "cell_type": "code",
      "metadata": {
        "id": "aUkcvA5sPYOh",
        "colab_type": "code",
        "colab": {
          "base_uri": "https://localhost:8080/",
          "height": 282
        },
        "outputId": "14cba8fc-afbe-44a9-b564-5d1352b5caea"
      },
      "source": [
        "plt.plot(running_corrects_history, label='training accurary')\n",
        "plt.plot(val_running_corrects_history, label='validation accuracy')\n",
        "plt.legend()\n"
      ],
      "execution_count": null,
      "outputs": [
        {
          "output_type": "execute_result",
          "data": {
            "text/plain": [
              "<matplotlib.legend.Legend at 0x7f16056a7e80>"
            ]
          },
          "metadata": {
            "tags": []
          },
          "execution_count": 11
        },
        {
          "output_type": "display_data",
          "data": {
            "image/png": "[encoded data removed]",
            "text/plain": [
              "<Figure size 432x288 with 1 Axes>"
            ]
          },
          "metadata": {
            "tags": [],
            "needs_background": "light"
          }
        }
      ]
    },
    {
      "cell_type": "code",
      "metadata": {
        "id": "BlOMqQGpbOJS",
        "colab_type": "code",
        "colab": {
          "base_uri": "https://localhost:8080/",
          "height": 336
        },
        "outputId": "4bac4f87-2d0e-4ec2-9431-f6275651c709"
      },
      "source": [
        "!pip3 install pillow==4.1.1\n",
        "!pip3 install imgaug==0.2.7\n",
        "\n"
      ],
      "execution_count": null,
      "outputs": [
        {
          "output_type": "stream",
          "text": [
            "Requirement already satisfied: pillow==4.1.1 in /usr/local/lib/python3.6/dist-packages (4.1.1)\n",
            "Requirement already satisfied: olefile in /usr/local/lib/python3.6/dist-packages (from pillow==4.1.1) (0.46)\n",
            "Requirement already satisfied: imgaug==0.2.7 in /usr/local/lib/python3.6/dist-packages (0.2.7)\n",
            "Requirement already satisfied: matplotlib in /usr/local/lib/python3.6/dist-packages (from imgaug==0.2.7) (3.2.2)\n",
            "Requirement already satisfied: Pillow in /usr/local/lib/python3.6/dist-packages (from imgaug==0.2.7) (4.1.1)\n",
            "Requirement already satisfied: Shapely in /usr/local/lib/python3.6/dist-packages (from imgaug==0.2.7) (1.7.0)\n",
            "Requirement already satisfied: six in /usr/local/lib/python3.6/dist-packages (from imgaug==0.2.7) (1.12.0)\n",
            "Requirement already satisfied: imageio in /usr/local/lib/python3.6/dist-packages (from imgaug==0.2.7) (2.4.1)\n",
            "Requirement already satisfied: numpy>=1.7.0 in /usr/local/lib/python3.6/dist-packages (from imgaug==0.2.7) (1.18.5)\n",
            "Requirement already satisfied: scikit-image>=0.11.0 in /usr/local/lib/python3.6/dist-packages (from imgaug==0.2.7) (0.16.2)\n",
            "Requirement already satisfied: scipy in /usr/local/lib/python3.6/dist-packages (from imgaug==0.2.7) (1.4.1)\n",
            "Requirement already satisfied: pyparsing!=2.0.4,!=2.1.2,!=2.1.6,>=2.0.1 in /usr/local/lib/python3.6/dist-packages (from matplotlib->imgaug==0.2.7) (2.4.7)\n",
            "Requirement already satisfied: cycler>=0.10 in /usr/local/lib/python3.6/dist-packages (from matplotlib->imgaug==0.2.7) (0.10.0)\n",
            "Requirement already satisfied: python-dateutil>=2.1 in /usr/local/lib/python3.6/dist-packages (from matplotlib->imgaug==0.2.7) (2.8.1)\n",
            "Requirement already satisfied: kiwisolver>=1.0.1 in /usr/local/lib/python3.6/dist-packages (from matplotlib->imgaug==0.2.7) (1.2.0)\n",
            "Requirement already satisfied: olefile in /usr/local/lib/python3.6/dist-packages (from Pillow->imgaug==0.2.7) (0.46)\n",
            "Requirement already satisfied: PyWavelets>=0.4.0 in /usr/local/lib/python3.6/dist-packages (from scikit-image>=0.11.0->imgaug==0.2.7) (1.1.1)\n",
            "Requirement already satisfied: networkx>=2.0 in /usr/local/lib/python3.6/dist-packages (from scikit-image>=0.11.0->imgaug==0.2.7) (2.4)\n",
            "Requirement already satisfied: decorator>=4.3.0 in /usr/local/lib/python3.6/dist-packages (from networkx>=2.0->scikit-image>=0.11.0->imgaug==0.2.7) (4.4.2)\n"
          ],
          "name": "stdout"
        }
      ]
    },
    {
      "cell_type": "code",
      "metadata": {
        "id": "-_Oq7Trxa4AA",
        "colab_type": "code",
        "colab": {}
      },
      "source": [
        "import PIL"
      ],
      "execution_count": null,
      "outputs": []
    },
    {
      "cell_type": "code",
      "metadata": {
        "id": "8pDvmjYvXEqs",
        "colab_type": "code",
        "colab": {
          "base_uri": "https://localhost:8080/",
          "height": 286
        },
        "outputId": "da3c0e75-9b6c-40e7-9b04-aa72ff975f37"
      },
      "source": [
        "import requests\n",
        "from PIL import Image\n",
        "url = 'https://images.homedepot-static.com/productImages/007164ea-d47e-4f66-8d8c-fd9f621984a2/svn/architectural-mailboxes-house-letters-numbers-3585b-5-64_1000.jpg'\n",
        "response = requests.get(url, stream = True)\n",
        "img = Image.open(response.raw)\n",
        "plt.imshow(img)\n",
        "print(response)"
      ],
      "execution_count": null,
      "outputs": [
        {
          "output_type": "stream",
          "text": [
            "<Response [200]>\n"
          ],
          "name": "stdout"
        },
        {
          "output_type": "display_data",
          "data": {
            "image/png": "[encoded data removed]",
            "text/plain": [
              "<Figure size 432x288 with 1 Axes>"
            ]
          },
          "metadata": {
            "tags": [],
            "needs_background": "light"
          }
        }
      ]
    },
    {
      "cell_type": "code",
      "metadata": {
        "id": "L9tzMPtxZtdi",
        "colab_type": "code",
        "colab": {
          "base_uri": "https://localhost:8080/",
          "height": 282
        },
        "outputId": "713f2e8a-b26d-49b2-fa5f-88da99bf7769"
      },
      "source": [
        "img = PIL.ImageOps.invert(img)\n",
        "img = img.convert('1')\n",
        "img = transform(img) \n",
        "plt.imshow(im_convert(img))"
      ],
      "execution_count": 29,
      "outputs": [
        {
          "output_type": "execute_result",
          "data": {
            "text/plain": [
              "<matplotlib.image.AxesImage at 0x7f1604042208>"
            ]
          },
          "metadata": {
            "tags": []
          },
          "execution_count": 29
        },
        {
          "output_type": "display_data",
          "data": {
            "image/png": "[encoded data removed]",
            "text/plain": [
              "<Figure size 432x288 with 1 Axes>"
            ]
          },
          "metadata": {
            "tags": [],
            "needs_background": "light"
          }
        }
      ]
    },
    {
      "cell_type": "code",
      "metadata": {
        "id": "efoWOlpCo5IJ",
        "colab_type": "code",
        "colab": {
          "base_uri": "https://localhost:8080/",
          "height": 34
        },
        "outputId": "0a17b922-262a-4595-c423-aa074cca431e"
      },
      "source": [
        "img = img.view(img.shape[0], -1)\n",
        "output = model(img)\n",
        "_, pred = torch.max(output, 1)\n",
        "print(pred.item())"
      ],
      "execution_count": 30,
      "outputs": [
        {
          "output_type": "stream",
          "text": [
            "5\n"
          ],
          "name": "stdout"
        }
      ]
    },
    {
      "cell_type": "code",
      "metadata": {
        "id": "swH9J7VbynC-",
        "colab_type": "code",
        "colab": {
          "base_uri": "https://localhost:8080/",
          "height": 268
        },
        "outputId": "22f98c23-7f18-405d-da74-f15a4dfd617b"
      },
      "source": [
        "dataiter = iter(validation_loader)\n",
        "images, labels = dataiter.next()\n",
        "images_ = images.view(images.shape[0], -1)\n",
        "output = model(images_)\n",
        "_, preds = torch.max(output, 1)\n",
        "\n",
        "fig = plt.figure(figsize=(25, 4))\n",
        "\n",
        "for idx in np.arange(20):\n",
        "  ax = fig.add_subplot(2, 10, idx+1, xticks=[], yticks=[])\n",
        "  plt.imshow(im_convert(images[idx]))\n",
        "  ax.set_title([labels[idx].item()])\n",
        "  ax.set_title(\"{} ({})\".format(str(preds[idx].item()), str(labels[idx].item())), color=(\"green\" if preds[idx]==labels[idx] else \"red\"))"
      ],
      "execution_count": 34,
      "outputs": [
        {
          "output_type": "display_data",
          "data": {
            "image/png": "[encoded data removed]",
            "text/plain": [
              "<Figure size 1800x288 with 20 Axes>"
            ]
          },
          "metadata": {
            "tags": []
          }
        }
      ]
    }
  ]
}